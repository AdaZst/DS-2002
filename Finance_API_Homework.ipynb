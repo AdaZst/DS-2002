{
  "nbformat": 4,
  "nbformat_minor": 0,
  "metadata": {
    "colab": {
      "provenance": [],
      "include_colab_link": true
    },
    "kernelspec": {
      "name": "python3",
      "display_name": "Python 3"
    },
    "language_info": {
      "name": "python"
    }
  },
  "cells": [
    {
      "cell_type": "markdown",
      "metadata": {
        "id": "view-in-github",
        "colab_type": "text"
      },
      "source": [
        "<a href=\"https://colab.research.google.com/github/AdaZst/DS-2002/blob/main/Finance_API_Homework.ipynb\" target=\"_parent\"><img src=\"https://colab.research.google.com/assets/colab-badge.svg\" alt=\"Open In Colab\"/></a>"
      ]
    },
    {
      "cell_type": "markdown",
      "source": [
        "# Submission Code"
      ],
      "metadata": {
        "id": "sjrelKSvbDLD"
      }
    },
    {
      "cell_type": "markdown",
      "source": [
        "Task 1: Fetch Basic Stock Data 10pts\n",
        "- Prompt the user to input two or more stock symbols.\n",
        "- Use the API to fetch data for the given symbols.\n",
        "- Extract and display only the Stock Ticker, Company Name, and Current Market Price"
      ],
      "metadata": {
        "id": "jxz6d93a0BX1"
      }
    },
    {
      "cell_type": "code",
      "source": [
        "import pandas as pd\n",
        "import requests\n",
        "\n",
        "# Define the API Key\n",
        "API_KEY = \"[FILL WITH API KEY]\"\n",
        "BASE_URL = \"https://yfapi.net/v6/finance/quote\"\n",
        "\n",
        "# Prompt user to enter stock symbols\n",
        "symbols = input(\"Enter two or more stock symbols separated by commas: \").upper().split(\",\")\n",
        "\n",
        "# Store results\n",
        "stock_data = []\n",
        "\n",
        "# Fetch data for each stock symbol\n",
        "for symbol in symbols:\n",
        "    symbol = symbol.strip()  # Remove any extra spaces\n",
        "    querystring = {\"symbols\": symbol}\n",
        "    headers = {\n",
        "        'x-api-key': API_KEY\n",
        "    }\n",
        "\n",
        "    # Make the API request\n",
        "    response = requests.get(BASE_URL, headers=headers, params=querystring)\n",
        "    data = response.json()\n",
        "\n",
        "    # Extract relevant information\n",
        "    if \"quoteResponse\" in data and \"result\" in data[\"quoteResponse\"]:\n",
        "        stock_info = data[\"quoteResponse\"][\"result\"][0]\n",
        "        stock_data.append({\n",
        "            \"Stock Ticker\": stock_info.get(\"symbol\", \"N/A\"),\n",
        "            \"Company Name\": stock_info.get(\"longName\", \"N/A\"),\n",
        "            \"Current Market Price\": f\"${stock_info.get('regularMarketPrice', 'N/A'):,.2f}\"\n",
        "        })\n",
        "    else:\n",
        "        stock_data.append({\n",
        "            \"Stock Ticker\": symbol,\n",
        "            \"Company Name\": \"N/A\",\n",
        "            \"Current Market Price\": \"N/A\"\n",
        "        })\n",
        "\n",
        "# Convert to DataFrame\n",
        "df = pd.DataFrame(stock_data)\n",
        "\n",
        "# Display results\n",
        "print(df.head())"
      ],
      "metadata": {
        "id": "ilI1PFkY1sWQ"
      },
      "execution_count": null,
      "outputs": []
    },
    {
      "cell_type": "markdown",
      "source": [
        "Task 2.1: Fetch Additional Data Using Modules 10 pts\n",
        "- Allow the user to choose a module from the Quote Summary Endpoint\n",
        "- Find: 52 Week High, 52 Week Low, Return on Assets (ROA)\n",
        "- Conver the response into a Pandas DataFrame\n",
        "- Make an API request using the chosen module\n",
        "- Display the DataFrame"
      ],
      "metadata": {
        "id": "Kc3IWDRSZ-J_"
      }
    },
    {
      "cell_type": "code",
      "source": [
        "import pandas as pd\n",
        "import requests\n",
        "\n",
        "# Define the API Key\n",
        "API_KEY = \"[FILL WITH API KEY]\"\n",
        "BASE_URL = \"https://yfapi.net/v11/finance/quoteSummary/\"\n",
        "\n",
        "# Prompt user to enter stock symbol\n",
        "symbol = input(\"Enter a stock symbol: \").upper().strip()\n",
        "\n",
        "# Prompt user to choose a module\n",
        "module = input(\"Enter a module (e.g., 'summaryDetail', 'financialData'): \").strip()\n",
        "\n",
        "# Make the API request\n",
        "url = f\"{BASE_URL}{symbol}\"\n",
        "querystring = {\n",
        "    \"modules\": module\n",
        "}\n",
        "headers = {\n",
        "    'x-api-key': API_KEY\n",
        "}\n",
        "\n",
        "response = requests.get(url, headers=headers, params=querystring)\n",
        "data = response.json()\n",
        "\n",
        "# Extract relevant information\n",
        "if \"quoteSummary\" in data and \"result\" in data[\"quoteSummary\"]:\n",
        "    result = data[\"quoteSummary\"][\"result\"][0]\n",
        "    module_data = result.get(module, {})\n",
        "\n",
        "    # Extract specific fields\n",
        "    extracted_data = {\n",
        "        \"52 Week High\": module_data.get(\"fiftyTwoWeekHigh\", {}).get(\"raw\", \"N/A\"),\n",
        "        \"52 Week Low\": module_data.get(\"fiftyTwoWeekLow\", {}).get(\"raw\", \"N/A\"),\n",
        "        \"Return on Assets (ROA)\": module_data.get(\"returnOnAssets\", {}).get(\"raw\", \"N/A\")\n",
        "    }\n",
        "\n",
        "    # Format the extracted data (only if the value is numeric)\n",
        "    formatted_data = {\n",
        "        \"52 Week High\": f\"${extracted_data['52 Week High']:,.2f}\" if isinstance(extracted_data['52 Week High'], (int, float)) else \"N/A\",\n",
        "        \"52 Week Low\": f\"${extracted_data['52 Week Low']:,.2f}\" if isinstance(extracted_data['52 Week Low'], (int, float)) else \"N/A\",\n",
        "        \"Return on Assets (ROA)\": f\"{extracted_data['Return on Assets (ROA)']:.2%}\" if isinstance(extracted_data['Return on Assets (ROA)'], (int, float)) else \"N/A\"\n",
        "    }\n",
        "\n",
        "    # Convert to DataFrame\n",
        "    df = pd.DataFrame([formatted_data])\n",
        "\n",
        "    # Display results\n",
        "    print(df.head())\n",
        "else:\n",
        "    print(\"No data found for the given symbol and module.\")"
      ],
      "metadata": {
        "id": "mrNc1A1y2KV6",
        "colab": {
          "base_uri": "https://localhost:8080/"
        },
        "outputId": "7147759f-6f83-45da-9203-1ec27b2bcf43"
      },
      "execution_count": null,
      "outputs": [
        {
          "output_type": "stream",
          "name": "stdout",
          "text": [
            "Enter a stock symbol: AAPL\n",
            "Enter a module (e.g., 'summaryDetail', 'financialData'): summaryDetail\n",
            "No data found for the given symbol and module.\n"
          ]
        }
      ]
    },
    {
      "cell_type": "markdown",
      "source": [
        "Task 2.2: Fetch Additional Data Using Modules 10pts\n",
        "- Find Current Trending Stocks, Their Actual Name and Ticker and Current Price as well as their 52 high and low."
      ],
      "metadata": {
        "id": "cem-NcDjbe55"
      }
    },
    {
      "cell_type": "code",
      "source": [
        "import pandas as pd\n",
        "import requests\n",
        "\n",
        "# Define the API Key\n",
        "API_KEY = \"[FILL WITH API KEY]\"\n",
        "TRENDING_URL = \"https://yfapi.net/v1/finance/trending/US\"\n",
        "QUOTE_URL = \"https://yfapi.net/v6/finance/quote\"\n",
        "\n",
        "# Fetch trending stocks\n",
        "headers = {\n",
        "    'x-api-key': API_KEY\n",
        "}\n",
        "\n",
        "# Make the API request to get trending stocks\n",
        "response = requests.get(TRENDING_URL, headers=headers)\n",
        "data = response.json()\n",
        "\n",
        "# Extract trending stock symbols\n",
        "trending_symbols = []\n",
        "if \"finance\" in data and \"result\" in data[\"finance\"]:\n",
        "    for item in data[\"finance\"][\"result\"]:\n",
        "        for quote in item.get(\"quotes\", []):\n",
        "            trending_symbols.append(quote.get(\"symbol\", \"N/A\"))\n",
        "else:\n",
        "    print(\"No trending stocks found.\")\n",
        "    trending_symbols = []\n",
        "\n",
        "# Remove duplicates and limit to top 10 trending stocks\n",
        "trending_symbols = list(set(trending_symbols))[:10]\n",
        "\n",
        "# Store results\n",
        "trending_stocks = []\n",
        "\n",
        "# Fetch detailed data for each trending stock\n",
        "for symbol in trending_symbols:\n",
        "    querystring = {\"symbols\": symbol}\n",
        "    response = requests.get(QUOTE_URL, headers=headers, params=querystring)\n",
        "    data = response.json()\n",
        "\n",
        "    # Extract relevant information\n",
        "    if \"quoteResponse\" in data and \"result\" in data[\"quoteResponse\"]:\n",
        "        stock_info = data[\"quoteResponse\"][\"result\"][0]\n",
        "        trending_stocks.append({\n",
        "            \"Stock Ticker\": stock_info.get(\"symbol\", \"N/A\"),\n",
        "            \"Company Name\": stock_info.get(\"longName\", \"N/A\"),\n",
        "            \"Current Market Price\": f\"${stock_info.get('regularMarketPrice', 'N/A'):,.2f}\",\n",
        "            \"52 Week High\": f\"${stock_info.get('fiftyTwoWeekHigh', 'N/A'):,.2f}\",\n",
        "            \"52 Week Low\": f\"${stock_info.get('fiftyTwoWeekLow', 'N/A'):,.2f}\"\n",
        "        })\n",
        "    else:\n",
        "        trending_stocks.append({\n",
        "            \"Stock Ticker\": symbol,\n",
        "            \"Company Name\": \"N/A\",\n",
        "            \"Current Market Price\": \"N/A\",\n",
        "            \"52 Week High\": \"N/A\",\n",
        "            \"52 Week Low\": \"N/A\"\n",
        "        })\n",
        "\n",
        "# Convert to DataFrame\n",
        "df = pd.DataFrame(trending_stocks)\n",
        "\n",
        "# Display results\n",
        "print(\"Trending Stocks:\")\n",
        "print(df.head())"
      ],
      "metadata": {
        "colab": {
          "base_uri": "https://localhost:8080/"
        },
        "id": "f5fpMvPkbp_U",
        "outputId": "2b452a33-403a-434c-fdc8-1a5c91faa0a1"
      },
      "execution_count": null,
      "outputs": [
        {
          "output_type": "stream",
          "name": "stdout",
          "text": [
            "Trending Stocks:\n",
            "  Stock Ticker         Company Name Current Market Price 52 Week High  \\\n",
            "0         SNOW       Snowflake Inc.              $166.19      $194.40   \n",
            "1         MARA  MARA Holdings, Inc.               $12.45       $30.71   \n",
            "2         ROOT           Root, Inc.               $98.71      $141.23   \n",
            "3          CRM     Salesforce, Inc.              $307.33      $369.00   \n",
            "4         MRNA        Moderna, Inc.               $33.58      $170.47   \n",
            "\n",
            "  52 Week Low  \n",
            "0     $107.13  \n",
            "1      $12.05  \n",
            "2      $27.24  \n",
            "3     $212.00  \n",
            "4      $29.25  \n"
          ]
        }
      ]
    }
  ]
}